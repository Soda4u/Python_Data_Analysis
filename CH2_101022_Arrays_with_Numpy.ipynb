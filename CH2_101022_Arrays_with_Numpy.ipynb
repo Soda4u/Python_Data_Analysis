{
 "cells": [
  {
   "cell_type": "code",
   "execution_count": 47,
   "id": "2f65da15",
   "metadata": {},
   "outputs": [
    {
     "name": "stdout",
     "output_type": "stream",
     "text": [
      "[ 2  4  6  8 10]\n"
     ]
    }
   ],
   "source": [
    "#Creating an array of numbers\n",
    "\n",
    "import numpy as np\n",
    "\n",
    "a = np.array([2,4,6,8,10])\n",
    "\n",
    "print(a)"
   ]
  },
  {
   "cell_type": "code",
   "execution_count": 6,
   "id": "f62611a9",
   "metadata": {},
   "outputs": [
    {
     "name": "stdout",
     "output_type": "stream",
     "text": [
      "[ 1  2  3  4  5  6  7  8  9 10]\n"
     ]
    }
   ],
   "source": [
    "#Creating an array using the arrange(Start,Stop,Step) syntax\n",
    "\n",
    "import numpy as np\n",
    "\n",
    "a = np.arange(1,11)\n",
    "print(a)"
   ]
  },
  {
   "cell_type": "code",
   "execution_count": 8,
   "id": "2b5456a5",
   "metadata": {},
   "outputs": [
    {
     "name": "stdout",
     "output_type": "stream",
     "text": [
      "[[0. 0. 0.]\n",
      " [0. 0. 0.]\n",
      " [0. 0. 0.]]\n",
      "[[1. 1.]\n",
      " [1. 1.]]\n",
      "[[4 4]\n",
      " [4 4]]\n",
      "[[1. 0. 0. 0.]\n",
      " [0. 1. 0. 0.]\n",
      " [0. 0. 1. 0.]\n",
      " [0. 0. 0. 1.]]\n",
      "[[0.18638927 0.95120326 0.7625892 ]\n",
      " [0.18252865 0.23435815 0.30352685]\n",
      " [0.79255715 0.78597562 0.95130515]]\n"
     ]
    }
   ],
   "source": [
    "#Creating various arrays using NumPy functions\n",
    "\n",
    "import numpy as np\n",
    "\n",
    "#Creates an array of all zeroes:\n",
    "p = np.zeros((3,3))\n",
    "print(p)\n",
    "\n",
    "\n",
    "#Creates an array of all ones:\n",
    "q = np.ones((2,2))\n",
    "print(q)\n",
    "\n",
    "#Creates a constant array:\n",
    "r = np.full((2,2), 4)\n",
    "print(r)\n",
    "\n",
    "#Creates a 2x2 identity matrix:\n",
    "s = np.eye(4)\n",
    "print(s)\n",
    "\n",
    "#Creates an array filled with random values:\n",
    "t = np.random.random((3,3))\n",
    "print(t)"
   ]
  },
  {
   "cell_type": "code",
   "execution_count": 14,
   "id": "0fa3cc18",
   "metadata": {},
   "outputs": [
    {
     "name": "stdout",
     "output_type": "stream",
     "text": [
      "<class 'numpy.ndarray'>\n",
      "int32\n",
      "(10,)\n"
     ]
    }
   ],
   "source": [
    "#Checking the data type\n",
    "\n",
    "import numpy as np\n",
    "\n",
    "a = np.arange(1,11)\n",
    "\n",
    "print(type(a))\n",
    "print(a.dtype)\n",
    "\n",
    "#Shows the shape of the array in the form of a tuple of dimensions (x,y). A one dimensional array is a vector.\n",
    "print(a.shape)"
   ]
  },
  {
   "cell_type": "code",
   "execution_count": 22,
   "id": "7a5d99a0",
   "metadata": {},
   "outputs": [
    {
     "name": "stdout",
     "output_type": "stream",
     "text": [
      "[[5 6]\n",
      " [7 8]]\n",
      "5\n",
      "7\n",
      "6\n",
      "8\n"
     ]
    }
   ],
   "source": [
    "#Selecting array elements\n",
    "\n",
    "import numpy as np\n",
    "\n",
    "#Creates a 2x2 array using the array() function\n",
    "a = np.array([[5,6],[7,8]])\n",
    "print(a)\n",
    "\n",
    "#Selecting an element of choice = a[m,n], where:\n",
    "#a is the variable representing the array, m is the row/record index, and n is the columnm/field index\n",
    "#NOTE: index values start at 0\n",
    "print(a[0,0])\n",
    "print(a[1,0])\n",
    "print(a[0,1])\n",
    "print(a[1,1])"
   ]
  },
  {
   "cell_type": "code",
   "execution_count": 32,
   "id": "b96235c1",
   "metadata": {},
   "outputs": [
    {
     "name": "stdout",
     "output_type": "stream",
     "text": [
      "[ 0  1  2  3  4  5  6  7  8  9 10 11]\n",
      "[[ 0  1  2]\n",
      " [ 3  4  5]\n",
      " [ 6  7  8]\n",
      " [ 9 10 11]]\n",
      "[ 0  1  2  3  4  5  6  7  8  9 10 11]\n",
      "[ 0  1  2  3  4  5  6  7  8  9 10 11]\n",
      "[[ 0  3  6  9]\n",
      " [ 1  4  7 10]\n",
      " [ 2  5  8 11]]\n"
     ]
    }
   ],
   "source": [
    "#Manipulating Array Shapes\n",
    "\n",
    "import numpy as np\n",
    "\n",
    "arr = np.arange(12)\n",
    "print(arr)\n",
    "\n",
    "#reshapes the array into a specified dimension, in this case a 4x3 array:\n",
    "reshaped_arr = arr.reshape(4,3)\n",
    "print(reshaped_arr)\n",
    "\n",
    "#to bring an n-dimensional array into a single dimension, the flatten() function can be used:\n",
    "flattened_arr = reshaped_arr.flatten()\n",
    "print(flattened_arr)\n",
    "\n",
    "#ravel works in the same way as flatten(), but is faster because it returns the reference of the original array.\n",
    "ravel_arr = reshaped_arr.ravel()\n",
    "print(ravel_arr)\n",
    "\n",
    "#transpose() function transposes the x and y values of a 2-dimensional matrix\n",
    "transposed_arr = reshaped_arr.transpose()\n",
    "print(transposed_arr)\n",
    "\n",
    "#resize() works similarly to reshape() but changes the shape of the original array:"
   ]
  },
  {
   "cell_type": "code",
   "execution_count": 41,
   "id": "f06a25ff",
   "metadata": {},
   "outputs": [
    {
     "name": "stdout",
     "output_type": "stream",
     "text": [
      "[[ 1  2  3  2  4  6]\n",
      " [ 4  5  6  8 10 12]\n",
      " [ 7  8  9 14 16 18]]\n",
      "[[ 1  2  3  2  4  6]\n",
      " [ 4  5  6  8 10 12]\n",
      " [ 7  8  9 14 16 18]]\n",
      "[[ 1  2  3]\n",
      " [ 4  5  6]\n",
      " [ 7  8  9]\n",
      " [ 2  4  6]\n",
      " [ 8 10 12]\n",
      " [14 16 18]]\n",
      "[[ 1  2  3]\n",
      " [ 4  5  6]\n",
      " [ 7  8  9]\n",
      " [ 2  4  6]\n",
      " [ 8 10 12]\n",
      " [14 16 18]]\n",
      "[[[ 1  2]\n",
      "  [ 2  4]\n",
      "  [ 3  6]]\n",
      "\n",
      " [[ 4  8]\n",
      "  [ 5 10]\n",
      "  [ 6 12]]\n",
      "\n",
      " [[ 7 14]\n",
      "  [ 8 16]\n",
      "  [ 9 18]]]\n"
     ]
    }
   ],
   "source": [
    "#Stacking Arrays\n",
    "\n",
    "import numpy as np\n",
    "\n",
    "arr1 = np.arange(1,10).reshape(3,3)\n",
    "\n",
    "#Horizontal Stacking using hstack()\n",
    "arr2 = 2*arr1\n",
    "\n",
    "arr3 = np.hstack((arr1,arr2))\n",
    "print(arr3)\n",
    "\n",
    "\n",
    "#Horizontal stacking using concatenate()\n",
    "arr4 = np.concatenate((arr1,arr2), axis=1)\n",
    "print(arr4)\n",
    "\n",
    "\n",
    "#Vertical stacking using vstack()\n",
    "arr5 = np.vstack((arr1,arr2))\n",
    "print(arr5)\n",
    "\n",
    "#Vertical stacking using concatenate()\n",
    "arr6 = np.concatenate((arr1,arr2), axis=0)\n",
    "print(arr6)\n",
    "\n",
    "\n",
    "#Depth stacking using dstack(). Stacks arrays with a third axis\n",
    "arr7 = np.dstack((arr1,arr2))\n",
    "print(arr7)"
   ]
  },
  {
   "cell_type": "code",
   "execution_count": 46,
   "id": "45dfc499",
   "metadata": {},
   "outputs": [
    {
     "name": "stdout",
     "output_type": "stream",
     "text": [
      "[[ 4  8]\n",
      " [ 5 10]\n",
      " [ 6 12]]\n",
      "[[ 4  5  6]\n",
      " [ 8 10 12]]\n"
     ]
    }
   ],
   "source": [
    "#Stack data stored in one dimensional vectors\n",
    "\n",
    "import numpy as np\n",
    "\n",
    "arr1 = np.arange(4,7)\n",
    "arr2 = 2*arr1\n",
    "\n",
    "#Creating a column stack: Stores horizontal data from vectors into columns for the stack\n",
    "arr_col_stack = np.column_stack((arr1,arr2))\n",
    "print(arr_col_stack)\n",
    "\n",
    "\n",
    "#Creating a row stack: Stores horizontal data from vectors into rows for the stack\n",
    "arr_row_stack = np.row_stack((arr1,arr2))\n",
    "print(arr_row_stack)"
   ]
  },
  {
   "cell_type": "code",
   "execution_count": null,
   "id": "d6e736c0",
   "metadata": {},
   "outputs": [],
   "source": []
  }
 ],
 "metadata": {
  "kernelspec": {
   "display_name": "Python 3 (ipykernel)",
   "language": "python",
   "name": "python3"
  },
  "language_info": {
   "codemirror_mode": {
    "name": "ipython",
    "version": 3
   },
   "file_extension": ".py",
   "mimetype": "text/x-python",
   "name": "python",
   "nbconvert_exporter": "python",
   "pygments_lexer": "ipython3",
   "version": "3.9.12"
  }
 },
 "nbformat": 4,
 "nbformat_minor": 5
}
