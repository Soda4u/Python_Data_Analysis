{
 "cells": [
  {
   "cell_type": "code",
   "execution_count": 5,
   "id": "8eb8c1b6",
   "metadata": {},
   "outputs": [
    {
     "name": "stdout",
     "output_type": "stream",
     "text": [
      "[[1 2 3]\n",
      " [4 5 6]\n",
      " [7 8 9]]\n",
      "[array([[1],\n",
      "       [4],\n",
      "       [7]]), array([[2],\n",
      "       [5],\n",
      "       [8]]), array([[3],\n",
      "       [6],\n",
      "       [9]])]\n",
      "[array([[1, 2, 3]]), array([[4, 5, 6]]), array([[7, 8, 9]])]\n"
     ]
    }
   ],
   "source": [
    "#Partitioning NumPy Arrays\n",
    "\n",
    "import numpy as np\n",
    "\n",
    "#Create an array\n",
    "arr = np.arange(1,10).reshape(3,3)\n",
    "print(arr)\n",
    "\n",
    "#Perform horizontal splitting. split(arr,3,axis=1) performs the same task\n",
    "arr_hor_split = np.hsplit(arr, 3)\n",
    "print(arr_hor_split)\n",
    "\n",
    "#Perform vertical splitting. split(arr,3,axis=0) performs the same task\n",
    "arr_ver_split = np.vsplit(arr,3)\n",
    "print(arr_ver_split)\n",
    "\n"
   ]
  },
  {
   "cell_type": "code",
   "execution_count": 11,
   "id": "400844a2",
   "metadata": {},
   "outputs": [
    {
     "name": "stdout",
     "output_type": "stream",
     "text": [
      "[0 1 2 3 4 5 6 7 8 9]\n",
      "[3 4 5]\n",
      "[3 4 5 6 7 8 9]\n",
      "[7 8 9]\n"
     ]
    }
   ],
   "source": [
    "#Slicing NumPy Arrays\n",
    "import numpy as np\n",
    "\n",
    "arr = np.arange(0,10)\n",
    "print(arr)\n",
    "\n",
    "#slicing syntax similar to python lists: variable[start,stop,step/increments]\n",
    "print(arr[3:6])\n",
    "print(arr[3:])\n",
    "print(arr[-3:])\n"
   ]
  },
  {
   "cell_type": "code",
   "execution_count": 19,
   "id": "a3e2a6be",
   "metadata": {},
   "outputs": [
    {
     "name": "stdout",
     "output_type": "stream",
     "text": [
      "[21 23 25 27 29 31 33 35 37 39]\n",
      "[31 33 35 37 39]\n",
      "Original Array:\n",
      " [[ 1  2  3  4]\n",
      " [ 5  6  7  8]\n",
      " [ 9 10 11 12]\n",
      " [13 14 15 16]\n",
      " [17 18 19 20]]\n",
      "Selected 1st and 2nd Rows:\n",
      " [[ 5  6  7  8]\n",
      " [ 9 10 11 12]]\n",
      "Selected 2nd and 3rd Rows:\n",
      " [[ 9 10 11 12]\n",
      " [13 14 15 16]]\n",
      "Selected Sub-Array: [ 7 12]\n"
     ]
    }
   ],
   "source": [
    "#Boolean and fancy indexing\n",
    "import numpy as np\n",
    "\n",
    "arr = np.arange(21,41,2)\n",
    "print(arr)\n",
    "print(arr[arr>30])\n",
    "\n",
    "\n",
    "#Fancy indexing works of arrays of multiple dimensions\n",
    "arr = np.arange(1,21).reshape(5,4)\n",
    "print(f\"Original Array:\\n {arr}\")\n",
    "\n",
    "indices = [1,2]\n",
    "print(f\"Selected 1st and 2nd Rows:\\n {arr[indices]}\")\n",
    "\n",
    "indices = [2,3]\n",
    "print(f\"Selected 2nd and 3rd Rows:\\n {arr[indices]}\")\n",
    "\n",
    "\n",
    "#Can use fancy indexing to create rows and column indices\n",
    "row = np.array([1,2])\n",
    "col = np.array([2,3])\n",
    "\n",
    "print(f\"Selected Sub-Array: {arr[row,col]}\")"
   ]
  },
  {
   "cell_type": "code",
   "execution_count": 21,
   "id": "06fb866c",
   "metadata": {},
   "outputs": [
    {
     "name": "stdout",
     "output_type": "stream",
     "text": [
      "[[1 2]\n",
      " [3 4]]\n",
      "[[5 6]\n",
      " [7 8]]\n",
      "[[ 6  8]\n",
      " [10 12]]\n",
      "[[ 5 12]\n",
      " [21 32]]\n"
     ]
    }
   ],
   "source": [
    "#Broadcasting allows mathematical manipulation of arrays\n",
    "\n",
    "arr1 = np.arange(1,5).reshape(2,2)\n",
    "arr2 = np.arange(5,9).reshape(2,2)\n",
    "print(arr1)\n",
    "print(arr2)\n",
    "\n",
    "print(arr1+arr2)\n",
    "print(arr1*arr2)"
   ]
  },
  {
   "cell_type": "code",
   "execution_count": null,
   "id": "8ad97676",
   "metadata": {},
   "outputs": [],
   "source": []
  }
 ],
 "metadata": {
  "kernelspec": {
   "display_name": "Python 3 (ipykernel)",
   "language": "python",
   "name": "python3"
  },
  "language_info": {
   "codemirror_mode": {
    "name": "ipython",
    "version": 3
   },
   "file_extension": ".py",
   "mimetype": "text/x-python",
   "name": "python",
   "nbconvert_exporter": "python",
   "pygments_lexer": "ipython3",
   "version": "3.9.12"
  }
 },
 "nbformat": 4,
 "nbformat_minor": 5
}
