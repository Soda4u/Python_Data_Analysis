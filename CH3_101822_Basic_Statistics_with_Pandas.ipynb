{
 "cells": [
  {
   "cell_type": "code",
   "execution_count": 3,
   "id": "f738d640",
   "metadata": {},
   "outputs": [
    {
     "data": {
      "text/html": [
       "<div>\n",
       "<style scoped>\n",
       "    .dataframe tbody tr th:only-of-type {\n",
       "        vertical-align: middle;\n",
       "    }\n",
       "\n",
       "    .dataframe tbody tr th {\n",
       "        vertical-align: top;\n",
       "    }\n",
       "\n",
       "    .dataframe thead th {\n",
       "        text-align: right;\n",
       "    }\n",
       "</style>\n",
       "<table border=\"1\" class=\"dataframe\">\n",
       "  <thead>\n",
       "    <tr style=\"text-align: right;\">\n",
       "      <th></th>\n",
       "      <th>communication_skill_score</th>\n",
       "      <th>quantitative_skill_score</th>\n",
       "    </tr>\n",
       "  </thead>\n",
       "  <tbody>\n",
       "    <tr>\n",
       "      <th>communication_skill_score</th>\n",
       "      <td>1.00000</td>\n",
       "      <td>-0.13464</td>\n",
       "    </tr>\n",
       "    <tr>\n",
       "      <th>quantitative_skill_score</th>\n",
       "      <td>-0.13464</td>\n",
       "      <td>1.00000</td>\n",
       "    </tr>\n",
       "  </tbody>\n",
       "</table>\n",
       "</div>"
      ],
      "text/plain": [
       "                           communication_skill_score  quantitative_skill_score\n",
       "communication_skill_score                    1.00000                  -0.13464\n",
       "quantitative_skill_score                    -0.13464                   1.00000"
      ]
     },
     "execution_count": 3,
     "metadata": {},
     "output_type": "execute_result"
    }
   ],
   "source": [
    "#Calculating the Mean of some data using pandas\n",
    "\n",
    "import pandas as pd\n",
    "\n",
    "sample_data = {'name':['John','Alia','Anya','Steve','Ben'],\n",
    "              'gender':['M','F','F','M','M'],\n",
    "               'communication_skill_score':[40,45,23,39,39],\n",
    "               'quantitative_skill_score':[38,41,42,48,32]\n",
    "              }\n",
    "\n",
    "data = pd.DataFrame(sample_data, columns = ['name','gender','communication_skill_score','quantitative_skill_score'])\n",
    "\n",
    "#calculate mean\n",
    "data['communication_skill_score'].mean(axis=0)\n",
    "\n",
    "#calculate the mode\n",
    "data['communication_skill_score'].mode()\n",
    "\n",
    "#calculate the median\n",
    "data['communication_skill_score'].median()\n",
    "\n",
    "#Calculating the range\n",
    "column_range = data['communication_skill_score'].max() - data['communication_skill_score'].min()\n",
    "column_range\n",
    "\n",
    "#Calculating IQR (interquartile range)\n",
    "first_quartile = data['communication_skill_score'].quantile(.25)\n",
    "third_quartile = data['communication_skill_score'].quantile(.75)\n",
    "\n",
    "iqr = third_quartile - first_quartile\n",
    "iqr\n",
    "\n",
    "\n",
    "#Calculating the variance\n",
    "data['communication_skill_score'].var()\n",
    "\n",
    "#Calculating the standard deviation/ the square root of variance\n",
    "data['communication_skill_score'].std()\n",
    "\n",
    "#Use the describe() function to return all NUMERICAL information about the data of interest\n",
    "data.describe()\n",
    "\n",
    "#skewness of data\n",
    "data['communication_skill_score'].skew()\n",
    "\n",
    "#kurtosis of data\n",
    "data['communication_skill_score'].kurtosis()\n",
    "\n",
    "#Covariance between columns\n",
    "data.cov()\n",
    "\n",
    "#Correlation between columns\n",
    "data.corr(method='pearson')"
   ]
  },
  {
   "cell_type": "code",
   "execution_count": 9,
   "id": "3f913bc5",
   "metadata": {},
   "outputs": [
    {
     "name": "stdout",
     "output_type": "stream",
     "text": [
      "Mean: 70.5\n",
      "P Value: 0.5986851106160134\n",
      "t-test Value: 0.5454725779039431\n",
      "Hypothesis Acepted\n"
     ]
    }
   ],
   "source": [
    "#Performing parametric tests\n",
    "\n",
    "#Performing a One-Sample T-Test\n",
    "import numpy as np\n",
    "from scipy.stats import ttest_1samp\n",
    "\n",
    "data = np.array([63,75,84,58,52,96,63,55,76,83])\n",
    "mean_value = np.mean(data)\n",
    "\n",
    "print(\"Mean:\", mean_value)\n",
    "\n",
    "\n",
    "t_test_value, p_value = ttest_1samp(data,68)\n",
    "\n",
    "print(\"P Value:\", p_value)\n",
    "print(\"t-test Value:\", t_test_value)\n",
    "\n",
    "#0.05 or 5% is significance level or alpha\n",
    "if p_value < 0.05:\n",
    "    print(\"Hypothesis Rejected\")\n",
    "else:\n",
    "    print(\"Hypothesis Acepted\")\n"
   ]
  },
  {
   "cell_type": "code",
   "execution_count": 16,
   "id": "04af07a6",
   "metadata": {},
   "outputs": [
    {
     "name": "stdout",
     "output_type": "stream",
     "text": [
      "P-Values: 0.32417171031948433\n",
      "t-test: -1.013672770165328\n",
      "Hypothesis Rejected\n"
     ]
    }
   ],
   "source": [
    "#Performing a TWo-Sample T-Test\n",
    "import numpy as np\n",
    "from scipy.stats import ttest_ind\n",
    "import random\n",
    "\n",
    "data1 = np.array([random.randint(20,100) for x in range(10)])\n",
    "\n",
    "data2= np.array([random.randint(20,100) for x in range(10)])\n",
    "\n",
    "#compare samples\n",
    "stat, p = ttest_ind(data1, data2)\n",
    "\n",
    "print(\"P-Values:\", p)\n",
    "print(\"t-test:\",stat)\n",
    "\n",
    "#0.05 or 5% is significance level of alpha\n",
    "\n",
    "if p < 0.05:\n",
    "    print(\"Hypothesis Rejected\")\n",
    "else:\n",
    "    print(\"Hypothesis Accepted\")"
   ]
  },
  {
   "cell_type": "code",
   "execution_count": 18,
   "id": "48a47ce6",
   "metadata": {},
   "outputs": [
    {
     "name": "stdout",
     "output_type": "stream",
     "text": [
      "P-Value: 0.013685575312467715\n",
      "t-test: 3.0548295044306903\n",
      "Hypothesis Rejected\n"
     ]
    }
   ],
   "source": [
    "#Performing a Paired Sample T-test, which is a dependent sample t-test\n",
    "\n",
    "#Null Hypothesis: Mean difference between two dependent samples is 0\n",
    "#Alternative Hypohtesis: Mean difference is not 0\n",
    "\n",
    "import numpy as np\n",
    "from scipy.stats import ttest_rel\n",
    "\n",
    "data1 = np.array([63,75,84,58,52,96,63,65,76,83])\n",
    "data2 = np.array([53,43,67,59,48,57,65,58,64,72])\n",
    "\n",
    "stat, p = ttest_rel(data1,data2)\n",
    "\n",
    "print(f\"P-Value: {p}\")\n",
    "print(f\"t-test: {stat}\")\n",
    "\n",
    "if p < 0.05:\n",
    "    print(\"Hypothesis Rejected\")\n",
    "else:\n",
    "    print(\"Hypothesis Accepted\")"
   ]
  },
  {
   "cell_type": "code",
   "execution_count": null,
   "id": "e6fd7d09",
   "metadata": {},
   "outputs": [],
   "source": []
  }
 ],
 "metadata": {
  "kernelspec": {
   "display_name": "Python 3 (ipykernel)",
   "language": "python",
   "name": "python3"
  },
  "language_info": {
   "codemirror_mode": {
    "name": "ipython",
    "version": 3
   },
   "file_extension": ".py",
   "mimetype": "text/x-python",
   "name": "python",
   "nbconvert_exporter": "python",
   "pygments_lexer": "ipython3",
   "version": "3.9.12"
  }
 },
 "nbformat": 4,
 "nbformat_minor": 5
}
