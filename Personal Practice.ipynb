{
 "cells": [
  {
   "cell_type": "code",
   "execution_count": 66,
   "id": "32ecdd30",
   "metadata": {},
   "outputs": [
    {
     "name": "stdout",
     "output_type": "stream",
     "text": [
      "   Concentration      R^2\n",
      "0       22.00456  0.99999\n",
      "1       22.03543  0.99998\n",
      "2       21.99991  0.99989\n",
      "Concentration: 22.0133 mg/mL\n",
      "R^2: 0.99995\n",
      "RSD%: 0.09 %\n"
     ]
    }
   ],
   "source": [
    "import pandas as pd\n",
    "import numpy as np\n",
    "\n",
    "conc_1 = 22.00456\n",
    "conc_2 = 22.03543\n",
    "conc_3 = 21.99991\n",
    "\n",
    "r_1 = 0.99999\n",
    "r_2 = 0.99998\n",
    "r_3 = 0.99989\n",
    "\n",
    "\n",
    "data = {\"Concentration\":[conc_1, conc_2, conc_3],\n",
    "        \"R^2\":[r_1, r_2, r_3],\n",
    "       }\n",
    "\n",
    "df = pd.DataFrame(data,columns = [\"Concentration\",\"R^2\"])\n",
    "print(df)\n",
    "\n",
    "concentration_result = round(df[\"Concentration\"].mean(), 5)\n",
    "r_value = round(df[\"R^2\"].mean(),5)\n",
    "rsd = round(((df[\"Concentration\"].std()/df[\"Concentration\"].mean())*100), 2)\n",
    "\n",
    "print(\"Concentration:\", concentration_result, \"mg/mL\")\n",
    "print(\"R^2:\", r_value)\n",
    "print(\"RSD%:\", rsd, \"%\")\n",
    "\n",
    "\n",
    "\n"
   ]
  },
  {
   "cell_type": "code",
   "execution_count": null,
   "id": "b2b0fb61",
   "metadata": {},
   "outputs": [],
   "source": []
  },
  {
   "cell_type": "code",
   "execution_count": null,
   "id": "89da5f13",
   "metadata": {},
   "outputs": [],
   "source": []
  }
 ],
 "metadata": {
  "kernelspec": {
   "display_name": "Python 3 (ipykernel)",
   "language": "python",
   "name": "python3"
  },
  "language_info": {
   "codemirror_mode": {
    "name": "ipython",
    "version": 3
   },
   "file_extension": ".py",
   "mimetype": "text/x-python",
   "name": "python",
   "nbconvert_exporter": "python",
   "pygments_lexer": "ipython3",
   "version": "3.9.12"
  }
 },
 "nbformat": 4,
 "nbformat_minor": 5
}
